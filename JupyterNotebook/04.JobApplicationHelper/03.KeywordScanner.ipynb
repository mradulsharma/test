{
 "cells": [
  {
   "cell_type": "markdown",
   "metadata": {},
   "source": [
    "# Word Extraction From Web\n",
    "![transform](WordExtraction.png)\n",
    "\n",
    "This jupyter notebook will scan keyword from website.\n"
   ]
  },
  {
   "cell_type": "markdown",
   "metadata": {},
   "source": [
    "### 1.> Lets load required libraries."
   ]
  },
  {
   "cell_type": "code",
   "execution_count": null,
   "metadata": {},
   "outputs": [],
   "source": [
    "import requests\n",
    "from bs4 import BeautifulSoup"
   ]
  },
  {
   "cell_type": "markdown",
   "metadata": {},
   "source": [
    "### 2.> Config Area"
   ]
  },
  {
   "cell_type": "code",
   "execution_count": 10,
   "metadata": {},
   "outputs": [],
   "source": [
    "url = \"https://www.seek.com.au/job/73518370\"\n",
    "\n",
    "keywords = [\"aws\", \"java\", \"angular\", \"react\", \"node.js\", \"nodejs\", \"python\"]\n"
   ]
  },
  {
   "cell_type": "code",
   "execution_count": 11,
   "metadata": {},
   "outputs": [
    {
     "name": "stdout",
     "output_type": "stream",
     "text": [
      "Keywords found: ['java', 'react', 'nodejs']\n"
     ]
    }
   ],
   "source": [
    "def check_keywords_in_url(url, keywords):\n",
    "    # Fetch the content of the URL\n",
    "    response = requests.get(url)\n",
    "    if response.status_code == 200:\n",
    "        # Use BeautifulSoup to parse the HTML content\n",
    "        soup = BeautifulSoup(response.text, 'html.parser')\n",
    "        \n",
    "        # Convert the entire webpage content to lower case for case-insensitive search\n",
    "        text = soup.get_text().lower()\n",
    "        found_keywords = []\n",
    "\n",
    "        # Check each keyword\n",
    "        for keyword in keywords:\n",
    "            if keyword.lower() in text:\n",
    "                found_keywords.append(keyword)\n",
    "        \n",
    "        if found_keywords:\n",
    "            print(f\"Keywords found: {found_keywords}\")\n",
    "        else:\n",
    "            print(\"No specified keywords were found on the page.\")\n",
    "    else:\n",
    "        print(\"Failed to retrieve the webpage.\")\n",
    "\n",
    "# Call function to get result.\n",
    "check_keywords_in_url(url, keywords)"
   ]
  },
  {
   "cell_type": "code",
   "execution_count": null,
   "metadata": {},
   "outputs": [],
   "source": []
  },
  {
   "cell_type": "code",
   "execution_count": null,
   "metadata": {},
   "outputs": [],
   "source": []
  },
  {
   "cell_type": "code",
   "execution_count": null,
   "metadata": {},
   "outputs": [],
   "source": []
  }
 ],
 "metadata": {
  "kernelspec": {
   "display_name": "venv311",
   "language": "python",
   "name": "python3"
  },
  "language_info": {
   "codemirror_mode": {
    "name": "ipython",
    "version": 3
   },
   "file_extension": ".py",
   "mimetype": "text/x-python",
   "name": "python",
   "nbconvert_exporter": "python",
   "pygments_lexer": "ipython3",
   "version": "3.11.4"
  }
 },
 "nbformat": 4,
 "nbformat_minor": 2
}
