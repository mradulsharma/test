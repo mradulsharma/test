{
 "cells": [
  {
   "cell_type": "markdown",
   "metadata": {},
   "source": [
    "# Extraction Text From Image (EasyOCR)\n",
    "![transform](OCREasy.png)\n",
    "\n",
    "This jupyter notebook will read image and extract text out of it.\n",
    "\n",
    "\n",
    "\n",
    "Ref : https://medium.com/@adityamahajan.work/easyocr-a-comprehensive-guide-5ff1cb850168\n",
    "\n",
    "\n",
    "***\n",
    "\n",
    "Setup :<br>\n",
    "1.> Install libraries<br>\n",
    "&emsp;&emsp;pip3 install torch torchvision torchaudio\n",
    "\n",
    "2.> Install EasyOCR - English (Default)<br>\n",
    "&emsp;&emsp;pip install easyocr\n",
    "\n",
    "***\n",
    "\n",
    "Supported Languages (83):<br>\n",
    "| Languages | Languages | Languages | Languages | Languages |\n",
    "|----------|----------|----------|----------|----------|\n",
    "|Abaza (abq)| Adyghe (ady)| Afrikaans (af)| Angika (ang)| Arabic (ar)|\n",
    "|Assamese (as)| Avar (ava)| Azerbaijani (az)| Belarusian (be)| Bulgarian (bg) |\n",
    "|Bihari (bh)| Bhojpuri (bho)| Bengali (bn)| Bosnian (bs)| Simplified Chinese (ch_sim)|\n",
    "|Traditional Chinese (ch_tra)| Chechen (che)| Czech (cs)| Welsh (cy)| Danish (da)|\n",
    "|German (de)| English (en)| Spanish (es)| Estonian (et)| Persian (fa)|\n",
    "|Finnish (fi)| French (fr)| Irish (ga)| Goan Konkani (gom)| Hindi (hi)|\n",
    "|Croatian (hr)| Hungarian (hu)| Indonesian (id)| Ingush (inh)| Icelandic (is)|\n",
    "|Italian (it)| Japanese (ja)| Kabardian (kbd)| Kannada (kn)| Korean (ko)|\n",
    "|Kurdish (ku)| Latin (la)| Lak (lbe)| Lezghian (lez)| Lithuanian (lt)|\n",
    "|Latvian (lv)| Magahi (mah)| Maithili (mai)| Maori (mi)| Mongolian (mn)|\n",
    "|Marathi (mr)| Malay (ms)| Maltese (mt)| Nepali (ne)| Newari (new)|\n",
    "|Dutch (nl)| Norwegian (no)| Occitan (oc)| Pali (pi)| Polish (pl)|\n",
    "|Portuguese (pt)| Romanian (ro)| Russian (ru)| Serbian (cyrillic) (rs_cyrillic)| Serbian(latin) (rs_latin)|\n",
    "|Nagpuri (sck)| Slovak (sk)| Slovenian (sl)| Albanian (sq)| Swedish (sv)|\n",
    "|Swahili (sw)| Tamil (ta)| Tabassaran (tab)| Telugu (te)| Thai (th)|\n",
    "|Tajik (tjk)| Tagalog (tl)| Turkish (tr)| Uyghur (ug)| Ukranian (uk)|\n",
    "|Urdu (ur)| Uzbek (uz)| Vietnamese (vi) | | |\n",
    "\n"
   ]
  },
  {
   "cell_type": "markdown",
   "metadata": {},
   "source": [
    "### 1.> Lets load required libraries."
   ]
  },
  {
   "cell_type": "code",
   "execution_count": 7,
   "metadata": {},
   "outputs": [],
   "source": [
    "import easyocr\n",
    "from IPython.display import HTML, display"
   ]
  },
  {
   "cell_type": "markdown",
   "metadata": {},
   "source": [
    "### 2.> OCR for English"
   ]
  },
  {
   "cell_type": "code",
   "execution_count": 9,
   "metadata": {},
   "outputs": [
    {
     "name": "stderr",
     "output_type": "stream",
     "text": [
      "Neither CUDA nor MPS are available - defaulting to CPU. Note: This module is much faster with a GPU.\n"
     ]
    },
    {
     "name": "stdout",
     "output_type": "stream",
     "text": [
      "\n",
      "\n",
      "\n",
      "\n",
      "\n",
      "\n"
     ]
    },
    {
     "data": {
      "text/html": [
       "Text: The quick brown fox jumps over the lazy dog\" is an English-language pangram, <span style=\"color: red;\">Probability: 0.6327388104391486</span>"
      ],
      "text/plain": [
       "<IPython.core.display.HTML object>"
      ]
     },
     "metadata": {},
     "output_type": "display_data"
    },
    {
     "data": {
      "text/html": [
       "Text: sentence that contains, <span style=\"color: red;\">Probability: 0.9234271835882907</span>"
      ],
      "text/plain": [
       "<IPython.core.display.HTML object>"
      ]
     },
     "metadata": {},
     "output_type": "display_data"
    },
    {
     "data": {
      "text/html": [
       "Text: all the letters of the alphabet: The phrase is commonly used for touch-typing practice; testing typewriters and, <span style=\"color: red;\">Probability: 0.48463362688452166</span>"
      ],
      "text/plain": [
       "<IPython.core.display.HTML object>"
      ]
     },
     "metadata": {},
     "output_type": "display_data"
    },
    {
     "data": {
      "text/html": [
       "Text: computer keyboards, displaying examples of fonts,, <span style=\"color: red;\">Probability: 0.635608395357769</span>"
      ],
      "text/plain": [
       "<IPython.core.display.HTML object>"
      ]
     },
     "metadata": {},
     "output_type": "display_data"
    },
    {
     "data": {
      "text/html": [
       "Text: and other applications involving text where the use of all, <span style=\"color: red;\">Probability: 0.6784647730820751</span>"
      ],
      "text/plain": [
       "<IPython.core.display.HTML object>"
      ]
     },
     "metadata": {},
     "output_type": "display_data"
    },
    {
     "data": {
      "text/html": [
       "Text: letters in the alphabet is desired, <span style=\"color: red;\">Probability: 0.6646990761563869</span>"
      ],
      "text/plain": [
       "<IPython.core.display.HTML object>"
      ]
     },
     "metadata": {},
     "output_type": "display_data"
    }
   ],
   "source": [
    "imageFilePath = \"./Test01.png\"\n",
    "\n",
    "reader = easyocr.Reader(['en']) # specify the language  \n",
    "result = reader.readtext(imageFilePath)\n",
    "\n",
    "print('\\n'*5)\n",
    "for (bbox, text, prob) in result:\n",
    "    display(HTML(f'Text: {text}, <span style=\"color: red;\">Probability: {prob}</span>'))"
   ]
  },
  {
   "cell_type": "markdown",
   "metadata": {},
   "source": [
    "### 3.> OCR for Hindi"
   ]
  },
  {
   "cell_type": "code",
   "execution_count": 10,
   "metadata": {},
   "outputs": [
    {
     "name": "stderr",
     "output_type": "stream",
     "text": [
      "Neither CUDA nor MPS are available - defaulting to CPU. Note: This module is much faster with a GPU.\n"
     ]
    },
    {
     "name": "stdout",
     "output_type": "stream",
     "text": [
      "\n",
      "\n",
      "\n",
      "\n",
      "\n",
      "\n"
     ]
    },
    {
     "data": {
      "text/html": [
       "Text: रहिमन जिव्हा बावरी, कहिगी सरग पताल|, <span style=\"color: red;\">Probability: 0.5368349083890053</span>"
      ],
      "text/plain": [
       "<IPython.core.display.HTML object>"
      ]
     },
     "metadata": {},
     "output_type": "display_data"
    },
    {
     "data": {
      "text/html": [
       "Text: कहि भीतर रही, <span style=\"color: red;\">Probability: 0.9600094033632699</span>"
      ],
      "text/plain": [
       "<IPython.core.display.HTML object>"
      ]
     },
     "metadata": {},
     "output_type": "display_data"
    },
    {
     "data": {
      "text/html": [
       "Text: खात कपाल||, <span style=\"color: red;\">Probability: 0.4846018358941249</span>"
      ],
      "text/plain": [
       "<IPython.core.display.HTML object>"
      ]
     },
     "metadata": {},
     "output_type": "display_data"
    },
    {
     "data": {
      "text/html": [
       "Text: आपु, <span style=\"color: red;\">Probability: 0.9568610787391663</span>"
      ],
      "text/plain": [
       "<IPython.core.display.HTML object>"
      ]
     },
     "metadata": {},
     "output_type": "display_data"
    }
   ],
   "source": [
    "imageFilePath = \"./Test02.png\"\n",
    "\n",
    "reader = easyocr.Reader(['hi']) # specify the language  \n",
    "result = reader.readtext(imageFilePath)\n",
    "\n",
    "print('\\n'*5)\n",
    "for (bbox, text, prob) in result:\n",
    "    display(HTML(f'Text: {text}, <span style=\"color: red;\">Probability: {prob}</span>'))"
   ]
  }
 ],
 "metadata": {
  "kernelspec": {
   "display_name": "venv",
   "language": "python",
   "name": "python3"
  },
  "language_info": {
   "codemirror_mode": {
    "name": "ipython",
    "version": 3
   },
   "file_extension": ".py",
   "mimetype": "text/x-python",
   "name": "python",
   "nbconvert_exporter": "python",
   "pygments_lexer": "ipython3",
   "version": "3.11.4"
  }
 },
 "nbformat": 4,
 "nbformat_minor": 2
}
