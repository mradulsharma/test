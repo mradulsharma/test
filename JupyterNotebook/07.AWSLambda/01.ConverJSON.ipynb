{
 "cells": [
  {
   "cell_type": "markdown",
   "metadata": {},
   "source": [
    "# TTS and Voice Cloning\n",
    "![transform](Banner-01.jpg)\n",
    "\n",
    "This jupyter notebook will have following sample code for AWS Lambda Functions :\n",
    "***\n",
    "\n",
    "1.> Convert tab spaced contents into JSON.<br>\n",
    "&emsp;&emsp;So we can send this as payload to Lambda function based API.\n",
    "\n",
    "***\n",
    "\n",
    "\n",
    "\n",
    "\n",
    "\n",
    "\n",
    "\n"
   ]
  }
 ],
 "metadata": {
  "kernelspec": {
   "display_name": "venv311",
   "language": "python",
   "name": "python3"
  },
  "language_info": {
   "codemirror_mode": {
    "name": "ipython",
    "version": 3
   },
   "file_extension": ".py",
   "mimetype": "text/x-python",
   "name": "python",
   "nbconvert_exporter": "python",
   "pygments_lexer": "ipython3",
   "version": "3.11.4"
  }
 },
 "nbformat": 4,
 "nbformat_minor": 2
}
