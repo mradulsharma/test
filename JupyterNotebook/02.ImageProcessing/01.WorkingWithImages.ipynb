{
 "cells": [
  {
   "cell_type": "markdown",
   "metadata": {},
   "source": [
    "# Image Processing \n",
    "![transform](ImageProcessing.jpg)\n",
    "\n",
    "This jupyter notebook explains how following libraries can be used to work with images. This is mainly in context of deep learning, so we can manipulate images and store/save into numpy array.\n",
    "- opencv-python\n",
    "- scikit-image\n"
   ]
  },
  {
   "cell_type": "markdown",
   "metadata": {},
   "source": [
    "### 1.> Lets load required libraries."
   ]
  },
  {
   "cell_type": "code",
   "execution_count": null,
   "metadata": {},
   "outputs": [],
   "source": [
    "import numpy as np\n",
    "import matplotlib.pyplot as plt\n",
    "from skimage import io, color, transform, img_as_ubyte\n",
    "from skimage.transform import resize"
   ]
  },
  {
   "cell_type": "markdown",
   "metadata": {},
   "source": [
    "### 2.> Load and print all images as is"
   ]
  },
  {
   "cell_type": "code",
   "execution_count": null,
   "metadata": {},
   "outputs": [],
   "source": [
    "# Define function to plot image so we can call this function again and again \n",
    "def plot_images(img1, img2, img3, cmapValue):\n",
    "    # Define printing area of 9 inch wide, and 3 inch high.\n",
    "    plt.figure(figsize=(9, 3))\n",
    "\n",
    "    # Plot imgA at first row first column.\n",
    "    plt.subplot(1, 3, 1)\n",
    "    plt.xticks([])\n",
    "    plt.yticks([])\n",
    "    plt.imshow(img1, cmapValue)\n",
    "    plt.xlabel('A')\n",
    "\n",
    "    # Plot imgY at first row second column.\n",
    "    plt.subplot(1, 3, 2)\n",
    "    plt.xticks([])\n",
    "    plt.yticks([])\n",
    "    plt.imshow(img2, cmapValue)\n",
    "    plt.xlabel('Y')\n",
    "\n",
    "    # Plot imgN at first row third column.\n",
    "    plt.subplot(1, 3, 3)\n",
    "    plt.xticks([])\n",
    "    plt.yticks([])\n",
    "    plt.imshow(img3, cmapValue)\n",
    "    plt.xlabel('N')\n",
    "\n",
    "    # Display image using Matplotlib\n",
    "    plt.show()\n",
    "\n",
    "\n",
    "# Load the image using skimage.io\n",
    "imgA = io.imread('A.jpg')\n",
    "imgY = io.imread('Y.jpg')\n",
    "imgN = io.imread('N.jpg')\n",
    "\n",
    "\n",
    "# Call function to plot all loaded image as is\n",
    "plot_images(imgA, imgY, imgN, 'viridis')\n",
    "\n"
   ]
  },
  {
   "cell_type": "markdown",
   "metadata": {},
   "source": [
    "### 3.> Convert loaded image into greyscale, and print greyscale image."
   ]
  },
  {
   "cell_type": "code",
   "execution_count": null,
   "metadata": {},
   "outputs": [],
   "source": [
    "# Convert the image to grayscale\n",
    "gray_imgA = color.rgb2gray(imgA)\n",
    "gray_imgY = color.rgb2gray(imgY)\n",
    "gray_imgN = color.rgb2gray(imgN)\n",
    "\n",
    "# Call function to plot all gray image\n",
    "plot_images(gray_imgA, gray_imgY, gray_imgN, 'gray')\n",
    "\n"
   ]
  },
  {
   "cell_type": "markdown",
   "metadata": {},
   "source": [
    "### 4.> Reduce image size, and save into another files."
   ]
  },
  {
   "cell_type": "code",
   "execution_count": null,
   "metadata": {},
   "outputs": [],
   "source": [
    "# Write function, to reduce image to specified pixel size and save to given file name.\n",
    "def transform_image_and_save(img, pixelSize, fileName):\n",
    "    transformedImage = transform.resize(img, (pixelSize, pixelSize), anti_aliasing=True)\n",
    "    \n",
    "    # Assume transformedImage is your floating-point image\n",
    "    # Scale and convert the image to 8-bit unsigned integers\n",
    "    transformed_image_ubyte = img_as_ubyte(transformedImage)\n",
    "    \n",
    "    io.imsave(fileName, transformed_image_ubyte)\n",
    "\n",
    "\n",
    "\n",
    "\n",
    "# Make image to 150 pixel size and save.\n",
    "pixelSize = 150\n",
    "transform_image_and_save(gray_imgA, 150, 'A_resized_'+str(pixelSize)+'.jpg')\n",
    "transform_image_and_save(gray_imgY, 150, 'Y_resized_'+str(pixelSize)+'.jpg')\n",
    "transform_image_and_save(gray_imgN, 150, 'N_resized_'+str(pixelSize)+'.jpg')\n",
    "\n",
    "\n",
    "# Make image to 100 pixel size and save.\n",
    "pixelSize = 100\n",
    "transform_image_and_save(gray_imgA, pixelSize, 'A_resized_'+str(pixelSize)+'.jpg')\n",
    "transform_image_and_save(gray_imgY, pixelSize, 'Y_resized_'+str(pixelSize)+'.jpg')\n",
    "transform_image_and_save(gray_imgN, pixelSize, 'N_resized_'+str(pixelSize)+'.jpg')\n",
    "\n",
    "# Make image to 50 pixel size and save.\n",
    "pixelSize = 50\n",
    "transform_image_and_save(gray_imgA, pixelSize, 'A_resized_'+str(pixelSize)+'.jpg')\n",
    "transform_image_and_save(gray_imgY, pixelSize, 'Y_resized_'+str(pixelSize)+'.jpg')\n",
    "transform_image_and_save(gray_imgN, pixelSize, 'N_resized_'+str(pixelSize)+'.jpg')\n",
    "\n",
    "# Make image to 10 pixel size and save.\n",
    "pixelSize = 10\n",
    "transform_image_and_save(gray_imgA, pixelSize, 'A_resized_'+str(pixelSize)+'.jpg')\n",
    "transform_image_and_save(gray_imgY, pixelSize, 'Y_resized_'+str(pixelSize)+'.jpg')\n",
    "transform_image_and_save(gray_imgN, pixelSize, 'N_resized_'+str(pixelSize)+'.jpg')\n"
   ]
  },
  {
   "cell_type": "markdown",
   "metadata": {},
   "source": [
    "### 5.> Increase image resolution"
   ]
  },
  {
   "cell_type": "code",
   "execution_count": null,
   "metadata": {},
   "outputs": [],
   "source": [
    "# We can also increase image resolution by giving more pixel size.\n",
    "pixelSize = 500\n",
    "transform_image_and_save(gray_imgA, pixelSize, 'A_resized_'+str(pixelSize)+'.jpg')\n",
    "transform_image_and_save(gray_imgY, pixelSize, 'Y_resized_'+str(pixelSize)+'.jpg')\n",
    "transform_image_and_save(gray_imgN, pixelSize, 'N_resized_'+str(pixelSize)+'.jpg')\n"
   ]
  },
  {
   "cell_type": "markdown",
   "metadata": {},
   "source": [
    "### 6.> Append all greyscale images into numpy array and save as .npy file\n"
   ]
  },
  {
   "cell_type": "code",
   "execution_count": null,
   "metadata": {},
   "outputs": [],
   "source": [
    "# Initialize an empty list to store grayscale images\n",
    "grayscale_images = []\n",
    "\n",
    "\n",
    "pixelSize = 100\n",
    "grayscale_images.append(transform.resize(gray_imgA, (pixelSize, pixelSize), anti_aliasing=True))\n",
    "grayscale_images.append(transform.resize(gray_imgY, (pixelSize, pixelSize), anti_aliasing=True))\n",
    "grayscale_images.append(transform.resize(gray_imgN, (pixelSize, pixelSize), anti_aliasing=True))\n",
    "\n",
    "# Convert the list of grayscale images to a numpy array\n",
    "np_images_array = np.array(grayscale_images)\n",
    "\n",
    "# Save the array of grayscale images to a .npy and .txt file\n",
    "np.save('image_array.npy', np_images_array)\n",
    "\n",
    "# This can also be saved as txt file\n",
    "#np.savetxt('image_array.txt', np_images_array.reshape(-1, np_images_array.shape[-1]), fmt='%f') \n"
   ]
  },
  {
   "cell_type": "markdown",
   "metadata": {},
   "source": [
    "### 7.> Read .npy file and save it as .txt file."
   ]
  },
  {
   "cell_type": "code",
   "execution_count": null,
   "metadata": {},
   "outputs": [],
   "source": [
    "loaded_array = np.load('image_array.npy')\n",
    "np.savetxt('image_array.txt', loaded_array.reshape(-1, loaded_array.shape[-1]), fmt='%f') "
   ]
  },
  {
   "cell_type": "code",
   "execution_count": null,
   "metadata": {},
   "outputs": [],
   "source": []
  }
 ],
 "metadata": {
  "kernelspec": {
   "display_name": "venv",
   "language": "python",
   "name": "python3"
  },
  "language_info": {
   "codemirror_mode": {
    "name": "ipython",
    "version": 3
   },
   "file_extension": ".py",
   "mimetype": "text/x-python",
   "name": "python",
   "nbconvert_exporter": "python",
   "pygments_lexer": "ipython3",
   "version": "3.11.4"
  }
 },
 "nbformat": 4,
 "nbformat_minor": 2
}
