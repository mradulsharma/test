{
 "cells": [
  {
   "cell_type": "markdown",
   "metadata": {},
   "source": [
    "# ASCII Art\n",
    "![transform](AsciiArt.jpg)\n",
    "\n",
    "This jupyter notebook has code that can generate ascii art from input image\n"
   ]
  },
  {
   "cell_type": "markdown",
   "metadata": {},
   "source": [
    "### 1.> Lets load required libraries."
   ]
  },
  {
   "cell_type": "code",
   "execution_count": 1,
   "metadata": {},
   "outputs": [],
   "source": [
    "import numpy as np\n",
    "import matplotlib.pyplot as plt\n",
    "from skimage import io, color, transform, img_as_ubyte\n",
    "from skimage.transform import resize"
   ]
  },
  {
   "cell_type": "markdown",
   "metadata": {},
   "source": [
    "### 2.> Load and print all images as is"
   ]
  },
  {
   "cell_type": "code",
   "execution_count": 44,
   "metadata": {},
   "outputs": [],
   "source": [
    "fileName = 'Ayaan-03'\n",
    "fileExtension = '.jpg'\n",
    "\n",
    "\n",
    "\n",
    "\n",
    "inputFileName = fileName + fileExtension\n",
    "grayScaleFileName = fileName + '.txt'\n",
    "asciiArtFileName = fileName + '-ASCII.txt'\n",
    "\n",
    "\n",
    "\n",
    "asciiSetToUse = 10      # Only two posible value, 10 or 92.\n",
    "\n",
    "\n",
    "pixelSizeWidth = 200        # Set 200 width, ff not sure about width\n",
    "pixelSizeHeight = 200       # Set 200 height, ff not sure about height"
   ]
  },
  {
   "cell_type": "code",
   "execution_count": 46,
   "metadata": {},
   "outputs": [],
   "source": [
    "# Load the image using skimage.io\n",
    "imgA = io.imread(inputFileName)\n",
    "\n",
    "# Convert the image to grayscale\n",
    "gray_imgA = color.rgb2gray(imgA)\n",
    "\n",
    "# Initialize an empty list to store grayscale images\n",
    "grayscale_images = []\n",
    "\n",
    "grayscale_images.append(transform.resize(gray_imgA, (pixelSizeHeight, pixelSizeWidth), anti_aliasing=True))\n",
    "\n",
    "\n",
    "# Convert the list of grayscale images to a numpy array\n",
    "np_images_array = np.array(grayscale_images)\n",
    "np.savetxt(grayScaleFileName, np_images_array.reshape(-1, np_images_array.shape[-1]), fmt='%f') \n",
    "\n"
   ]
  },
  {
   "cell_type": "code",
   "execution_count": 47,
   "metadata": {},
   "outputs": [],
   "source": [
    "# Function that will return ascii character based on given pixel intensity on gray scale\n",
    "def getAsciiForPixelIntensity92(pixelValue):\n",
    "\n",
    "    # Collection of 92 printable ascii ordered based on their intensity.\n",
    "    asciiCollection =\" `.-':_,^=;><+!rc*/z?sLTv)J7(|Fi{C}fI31tlu[neoZ5Yxjya]2ESwqkP6h9d4VpOGbUAKXHm8RD#$Bg0MNWQ%&@\"\n",
    "\n",
    "    # Reverse input pixel value.\n",
    "    # In python, pixel 1 mean light and 0 mean dark. Above 92 ascii is arranged in order from light to dark.\n",
    "    # Hence we need to subtract input pixelValue from 1 to get right intensity index position from array.\n",
    "    pixelFloatValue = 1.000000 - pixelValue\n",
    "    \n",
    "    # // is mathematical operator which will find quotient of divition.\n",
    "    # Pixel float values are of 6 digits after decimal.\n",
    "    # 10 to the power 6 when devide by 92 equal parts, it comes down to 10870 approximatly.\n",
    "    # So 10870 different level of intensity represents 1 single character in array, hence devide by 10870\n",
    "    asciiIndex = int((pixelFloatValue * 1000000 ) // 10870)\n",
    "\n",
    "    return asciiCollection[asciiIndex]\n",
    "\n",
    "\n",
    "\n",
    "\n",
    "\n",
    "# This is for unit testing.\n",
    "#pixelFloatValue = 1.000000  # Light\n",
    "#pixelFloatValue = 0.000000  # Darkest\n",
    "#pixelFloatValue = 0.897497  # Something in between\n",
    "\n",
    "\n",
    "\n",
    "#print('character =['+getAsciiForPixelIntensity10(pixelFloatValue)+']')\n"
   ]
  },
  {
   "cell_type": "code",
   "execution_count": 48,
   "metadata": {},
   "outputs": [],
   "source": [
    "# Function that will return ascii character based on given pixel intensity on gray scale\n",
    "def getAsciiForPixelIntensity10(pixelValue):\n",
    "\n",
    "    # Collection of 92 printable ascii ordered based on their intensity.\n",
    "    asciiCollection = \"@%#*+=-:. \"\n",
    "\n",
    "    # // is mathematical operator which will find quotient of divition.\n",
    "    # Pixel float values are of 6 digits after decimal.\n",
    "    # 10 to the power 6 when devide by 10 equal parts, it comes down to 100000.\n",
    "    # So 100000 different level of intensity represents 1 single character in array, hence devide by 100000\n",
    "    asciiIndex = int((pixelValue * 1000000 ) // 100000)\n",
    "\n",
    "    if asciiIndex >= 10 :\n",
    "        asciiIndex = 9\n",
    "\n",
    "    return asciiCollection[asciiIndex]\n",
    "\n",
    "\n",
    "\n",
    "\n",
    "\n",
    "# This is for unit testing.\n",
    "#pixelFloatValue = 1.000000  # Light\n",
    "#pixelFloatValue = 0.000000  # Darkest\n",
    "#pixelFloatValue = 0.897497  # Something in between\n",
    "\n",
    "\n",
    "\n",
    "#print('character =['+getAsciiForPixelIntensity10(pixelFloatValue)+']')\n"
   ]
  },
  {
   "cell_type": "code",
   "execution_count": 49,
   "metadata": {},
   "outputs": [],
   "source": [
    "\n",
    "# Function which will read float values file and create ascii characters file having float value equivelent ascii.\n",
    "def createAsciiFileFromFloatFile(floatFileName, asciiFileName):\n",
    "    try:\n",
    "        # Open read file\n",
    "        with open(floatFileName, 'r') as read_file:\n",
    "            \n",
    "            # Open the write file\n",
    "            with open(asciiFileName, 'w') as write_file:\n",
    "\n",
    "                # Read each line from read file \n",
    "                for line in read_file:\n",
    "                    # Split the line into individual string components\n",
    "                    float_strings = line.split()    # This will split each line on space and create list of float values in string format.\n",
    "\n",
    "                    # Convert each float to its equivelent ascii character\n",
    "                    for float_string in float_strings:\n",
    "                       \n",
    "                       float_value = float(float_string)\n",
    "                       if asciiSetToUse == 92:\n",
    "                           asciiChar = getAsciiForPixelIntensity92(float_value)\n",
    "                       elif asciiSetToUse == 10:    \n",
    "                           asciiChar = getAsciiForPixelIntensity10(float_value)\n",
    "                       else:\n",
    "                           asciiChar = getAsciiForPixelIntensity10(float_value)     # Default behaviour to 10 ascii.\n",
    "                        \n",
    "                       write_file.write(asciiChar)  # Write the character to the write file\n",
    "\n",
    "                    # After one line, print new line character\n",
    "                    write_file.write('\\n')  \n",
    "\n",
    "    except FileNotFoundError:\n",
    "        print(\"The file to read was not found.\")\n",
    "    except Exception as e:\n",
    "        print(f\"An error occurred: {e}\")\n",
    "\n",
    "\n",
    "\n",
    "\n",
    "\n",
    "createAsciiFileFromFloatFile(grayScaleFileName,asciiArtFileName)\n"
   ]
  }
 ],
 "metadata": {
  "kernelspec": {
   "display_name": "venv",
   "language": "python",
   "name": "python3"
  },
  "language_info": {
   "codemirror_mode": {
    "name": "ipython",
    "version": 3
   },
   "file_extension": ".py",
   "mimetype": "text/x-python",
   "name": "python",
   "nbconvert_exporter": "python",
   "pygments_lexer": "ipython3",
   "version": "3.11.4"
  }
 },
 "nbformat": 4,
 "nbformat_minor": 2
}
