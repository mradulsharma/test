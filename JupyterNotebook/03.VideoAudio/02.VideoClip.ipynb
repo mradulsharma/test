{
 "cells": [
  {
   "cell_type": "markdown",
   "metadata": {},
   "source": [
    "# Video Processing\n",
    "![transform](VideoProcessing.png)\n",
    "\n",
    "This jupyter notebook help you process videos\n",
    "- Clip MP4 to shorter duration.\n",
    "- Convert mp4 into mp3.\n",
    "- Cross fade two mp3 files.\n"
   ]
  },
  {
   "cell_type": "markdown",
   "metadata": {},
   "source": [
    "# Clip MP4, and convert to MP3\n",
    "\n",
    "### 1.> Lets load required libraries."
   ]
  },
  {
   "cell_type": "code",
   "execution_count": null,
   "metadata": {},
   "outputs": [],
   "source": [
    "from moviepy.editor import VideoFileClip\n"
   ]
  },
  {
   "cell_type": "markdown",
   "metadata": {},
   "source": [
    "### 2.> Config Area"
   ]
  },
  {
   "cell_type": "code",
   "execution_count": null,
   "metadata": {},
   "outputs": [],
   "source": [
    "videoInFile = 'BowlSound_original.mp4'\n",
    "videoOutFile = 'BowlSound.mp4'\n",
    "audioOutFile = 'BowlSound.mp3'\n",
    "\n",
    "# Followingg time is in seconds\n",
    "startSubClip = 0\n",
    "endSubClip = 289"
   ]
  },
  {
   "cell_type": "markdown",
   "metadata": {},
   "source": [
    "### 3.> Subclip video and audio"
   ]
  },
  {
   "cell_type": "code",
   "execution_count": null,
   "metadata": {},
   "outputs": [],
   "source": [
    "# Define subclip from 0 seconds to 4 mnts and 49 seconds which is 289 seconds.\n",
    "myClip = VideoFileClip(videoInFile).subclip(startSubClip,endSubClip)\n"
   ]
  },
  {
   "cell_type": "code",
   "execution_count": null,
   "metadata": {},
   "outputs": [],
   "source": [
    "# Write video file from clip\n",
    "myClip.write_videofile(videoOutFile)\n",
    "\n",
    "# Get the audio from the clip\n",
    "audioclip = myClip.audio \n",
    "\n",
    "# Save the audio to a file\n",
    "audioclip.write_audiofile(audioOutFile)"
   ]
  },
  {
   "cell_type": "code",
   "execution_count": null,
   "metadata": {},
   "outputs": [],
   "source": [
    "myClip.close()\n",
    "audioclip.close()"
   ]
  },
  {
   "cell_type": "markdown",
   "metadata": {},
   "source": [
    "# Following code will cross fade two sounds."
   ]
  },
  {
   "cell_type": "markdown",
   "metadata": {},
   "source": [
    "### 1.> Check directory. Place file in same directory."
   ]
  },
  {
   "cell_type": "code",
   "execution_count": 24,
   "metadata": {},
   "outputs": [
    {
     "name": "stdout",
     "output_type": "stream",
     "text": [
      "This is working directory, so all files should be kept here : c:\\Users\\maddy\\EpsilonVeda\\GitRepost\\maddy\\test\\JupyterNotebook\\03.VideoAudio\n"
     ]
    }
   ],
   "source": [
    "# Print current working directory\n",
    "import os\n",
    "print(\"This is working directory, so all files should be kept here : \" + os.getcwd())"
   ]
  },
  {
   "cell_type": "markdown",
   "metadata": {},
   "source": [
    "### 2.> Import moduels."
   ]
  },
  {
   "cell_type": "code",
   "execution_count": 25,
   "metadata": {},
   "outputs": [],
   "source": [
    "from moviepy.editor import AudioFileClip, CompositeAudioClip"
   ]
  },
  {
   "cell_type": "markdown",
   "metadata": {},
   "source": [
    "### 3.> Find Frame Per Second (FPS) of source file. So output file can also be generated with same FPS"
   ]
  },
  {
   "cell_type": "code",
   "execution_count": 26,
   "metadata": {},
   "outputs": [
    {
     "name": "stdout",
     "output_type": "stream",
     "text": [
      "Clip 1 Frame Per Second (FPS): 44100\n",
      "Clip 2 Frame Per Second (FPS): 44100\n"
     ]
    }
   ],
   "source": [
    "clip1 = AudioFileClip(\"TunigForkSoundBath.mp3\")\n",
    "clip2 = AudioFileClip(\"OmChanting.mp3\")\n",
    "\n",
    "print(\"Clip 1 Frame Per Second (FPS):\", clip1.fps)\n",
    "print(\"Clip 2 Frame Per Second (FPS):\", clip2.fps)"
   ]
  },
  {
   "cell_type": "markdown",
   "metadata": {},
   "source": [
    "### 4.> Cross fade sound of 5 seconds, and merge both audios."
   ]
  },
  {
   "cell_type": "code",
   "execution_count": 27,
   "metadata": {},
   "outputs": [],
   "source": [
    "# Crossfade duration in seconds\n",
    "fade_duration = 5\n",
    "\n",
    "# Create crossfade manually using set_start and volume fades\n",
    "clip1_fade = clip1.volumex(1).audio_fadeout(fade_duration)\n",
    "clip2_fade = clip2.audio_fadein(fade_duration).set_start(clip1.duration - fade_duration)\n",
    "\n",
    "# Combine both with overlapping 5s\n",
    "combined = CompositeAudioClip([clip1_fade, clip2_fade])\n",
    "\n",
    "\n"
   ]
  },
  {
   "cell_type": "markdown",
   "metadata": {},
   "source": [
    "### 5.> Write final merged audio."
   ]
  },
  {
   "cell_type": "code",
   "execution_count": 28,
   "metadata": {},
   "outputs": [
    {
     "name": "stdout",
     "output_type": "stream",
     "text": [
      "MoviePy - Writing audio in MergedOutput.mp3\n"
     ]
    },
    {
     "name": "stderr",
     "output_type": "stream",
     "text": [
      "                                                                        "
     ]
    },
    {
     "name": "stdout",
     "output_type": "stream",
     "text": [
      "MoviePy - Done.\n"
     ]
    },
    {
     "name": "stderr",
     "output_type": "stream",
     "text": [
      "\r"
     ]
    }
   ],
   "source": [
    "# Export merged audio\n",
    "combined.write_audiofile(\"MergedOutput.mp3\", fps=44100)\n"
   ]
  }
 ],
 "metadata": {
  "kernelspec": {
   "display_name": "venv311",
   "language": "python",
   "name": "python3"
  },
  "language_info": {
   "codemirror_mode": {
    "name": "ipython",
    "version": 3
   },
   "file_extension": ".py",
   "mimetype": "text/x-python",
   "name": "python",
   "nbconvert_exporter": "python",
   "pygments_lexer": "ipython3",
   "version": "3.11.4"
  }
 },
 "nbformat": 4,
 "nbformat_minor": 2
}
