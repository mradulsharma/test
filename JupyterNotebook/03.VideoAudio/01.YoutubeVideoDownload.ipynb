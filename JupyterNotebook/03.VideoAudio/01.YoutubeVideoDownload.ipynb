{
 "cells": [
  {
   "cell_type": "markdown",
   "metadata": {},
   "source": [
    "# Youtube Downloader\n",
    "![transform](Heading.png)\n",
    "\n",
    "This jupyter notebook has code that can be used to downlaod mp3 or mp4 files from youtube.\n"
   ]
  },
  {
   "cell_type": "markdown",
   "metadata": {},
   "source": [
    "### 1.> Lets load required libraries."
   ]
  },
  {
   "cell_type": "code",
   "execution_count": 5,
   "metadata": {},
   "outputs": [],
   "source": [
    "from pytube import YouTube\n"
   ]
  },
  {
   "cell_type": "markdown",
   "metadata": {},
   "source": [
    "### 2.> Config Area"
   ]
  },
  {
   "cell_type": "code",
   "execution_count": 6,
   "metadata": {},
   "outputs": [],
   "source": [
    "downloadType = 'mp4'    # Allowed values : 'mp4' or 'mp3'\n",
    "# youtubeURL = 'https://www.youtube.com/watch?v=-byjrq-I0Go'      # Om Chanting.\n",
    "# downloadFileName = 'OmChanting'\n",
    "\n",
    "\n",
    "# This file is too big, so it should be clipped to first 5 mnts and 32 seconds.\n",
    "# youtubeURL = 'https://www.youtube.com/watch?v=0MzHdxXhUwQ'      # Tuning Fork sound bath\n",
    "# downloadFileName = 'TunigForkSoundBath'\n",
    "\n",
    "\n",
    "# This file is too big, so it should be clipped to first 4 mnts and 49 seconds.\n",
    "youtubeURL = 'https://www.youtube.com/watch?v=s5wXHR6Xt5s'      # 13 Chakras Activation Sound Bath - Uniting the Bodymind with the Higher Realms\n",
    "downloadFileName = 'BowlSound_original'\n",
    "\n"
   ]
  },
  {
   "cell_type": "markdown",
   "metadata": {},
   "source": [
    "### 3.> Download Youtube"
   ]
  },
  {
   "cell_type": "code",
   "execution_count": 7,
   "metadata": {},
   "outputs": [
    {
     "name": "stdout",
     "output_type": "stream",
     "text": [
      "Downloading video https://www.youtube.com/watch?v=s5wXHR6Xt5s\n"
     ]
    }
   ],
   "source": [
    "print(\"Downloading video \" + youtubeURL)\n",
    "\n",
    "try:  \n",
    "    # object creation using YouTube \n",
    "    # which was imported in the beginning  \n",
    "    youTubeLink = YouTube(youtubeURL)\n",
    "except:  \n",
    "    print(\"Connection Error : Unable to connect to \" + youtubeURL) #to handle exception  \n",
    "\n",
    "\n",
    "\n"
   ]
  },
  {
   "cell_type": "code",
   "execution_count": 8,
   "metadata": {},
   "outputs": [
    {
     "data": {
      "text/plain": [
       "'c:\\\\Users\\\\maddy\\\\EpsilonVeda\\\\GitRepost\\\\maddy\\\\test\\\\JupyterNotebook\\\\03.YouTube\\\\BowlSound_original.mp4'"
      ]
     },
     "execution_count": 8,
     "metadata": {},
     "output_type": "execute_result"
    }
   ],
   "source": [
    "if downloadType == 'mp3':\n",
    "    video = youTubeLink.streams.get_audio_only()\n",
    "elif downloadType == 'mp4':    \n",
    "    video = youTubeLink.streams.get_highest_resolution()\n",
    "else:\n",
    "    video = youTubeLink.streams.get_highest_resolution()     # Default behaviour to mp4\n",
    "\n",
    "\n",
    "\n",
    "\n",
    "video.download(filename=downloadFileName+'.'+downloadType)"
   ]
  }
 ],
 "metadata": {
  "kernelspec": {
   "display_name": "venv",
   "language": "python",
   "name": "python3"
  },
  "language_info": {
   "codemirror_mode": {
    "name": "ipython",
    "version": 3
   },
   "file_extension": ".py",
   "mimetype": "text/x-python",
   "name": "python",
   "nbconvert_exporter": "python",
   "pygments_lexer": "ipython3",
   "version": "3.11.4"
  }
 },
 "nbformat": 4,
 "nbformat_minor": 2
}
